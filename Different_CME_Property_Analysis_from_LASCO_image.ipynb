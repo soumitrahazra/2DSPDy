{
  "nbformat": 4,
  "nbformat_minor": 0,
  "metadata": {
    "colab": {
      "provenance": [],
      "authorship_tag": "ABX9TyMTA8Li6UBSnLrjl46iyZg0",
      "include_colab_link": true
    },
    "kernelspec": {
      "name": "python3",
      "display_name": "Python 3"
    },
    "language_info": {
      "name": "python"
    },
    "widgets": {
      "application/vnd.jupyter.widget-state+json": {
        "f6fdf4a82d3a4ace9e21f62222272aac": {
          "model_module": "@jupyter-widgets/controls",
          "model_name": "HBoxModel",
          "model_module_version": "1.5.0",
          "state": {
            "_dom_classes": [],
            "_model_module": "@jupyter-widgets/controls",
            "_model_module_version": "1.5.0",
            "_model_name": "HBoxModel",
            "_view_count": null,
            "_view_module": "@jupyter-widgets/controls",
            "_view_module_version": "1.5.0",
            "_view_name": "HBoxView",
            "box_style": "",
            "children": [
              "IPY_MODEL_dc8b696b429c4b8790fbf6cf1c5f3a85",
              "IPY_MODEL_4298ff709734473d909cb80935bcc2f6",
              "IPY_MODEL_26e0c3397c3d45efab4d1c3d37ff8b31"
            ],
            "layout": "IPY_MODEL_458886e058ce4276b332636b77092aac"
          }
        },
        "dc8b696b429c4b8790fbf6cf1c5f3a85": {
          "model_module": "@jupyter-widgets/controls",
          "model_name": "HTMLModel",
          "model_module_version": "1.5.0",
          "state": {
            "_dom_classes": [],
            "_model_module": "@jupyter-widgets/controls",
            "_model_module_version": "1.5.0",
            "_model_name": "HTMLModel",
            "_view_count": null,
            "_view_module": "@jupyter-widgets/controls",
            "_view_module_version": "1.5.0",
            "_view_name": "HTMLView",
            "description": "",
            "description_tooltip": null,
            "layout": "IPY_MODEL_da08c58227304f1398aa06b06b4be531",
            "placeholder": "​",
            "style": "IPY_MODEL_e3dde187b9434c1c8fdfe45b0c3b7b88",
            "value": "Files Downloaded: 100%"
          }
        },
        "4298ff709734473d909cb80935bcc2f6": {
          "model_module": "@jupyter-widgets/controls",
          "model_name": "FloatProgressModel",
          "model_module_version": "1.5.0",
          "state": {
            "_dom_classes": [],
            "_model_module": "@jupyter-widgets/controls",
            "_model_module_version": "1.5.0",
            "_model_name": "FloatProgressModel",
            "_view_count": null,
            "_view_module": "@jupyter-widgets/controls",
            "_view_module_version": "1.5.0",
            "_view_name": "ProgressView",
            "bar_style": "success",
            "description": "",
            "description_tooltip": null,
            "layout": "IPY_MODEL_6737bcdb253b4c79b78dde622508e367",
            "max": 7,
            "min": 0,
            "orientation": "horizontal",
            "style": "IPY_MODEL_5ac6c7ce10ca47a083527613ab9eee67",
            "value": 7
          }
        },
        "26e0c3397c3d45efab4d1c3d37ff8b31": {
          "model_module": "@jupyter-widgets/controls",
          "model_name": "HTMLModel",
          "model_module_version": "1.5.0",
          "state": {
            "_dom_classes": [],
            "_model_module": "@jupyter-widgets/controls",
            "_model_module_version": "1.5.0",
            "_model_name": "HTMLModel",
            "_view_count": null,
            "_view_module": "@jupyter-widgets/controls",
            "_view_module_version": "1.5.0",
            "_view_name": "HTMLView",
            "description": "",
            "description_tooltip": null,
            "layout": "IPY_MODEL_830efa0a7f69418fb44aee6423f87288",
            "placeholder": "​",
            "style": "IPY_MODEL_9e52a9cc7c234b16a93e8589f3d84fd0",
            "value": " 7/7 [00:00&lt;00:00,  7.99file/s]"
          }
        },
        "458886e058ce4276b332636b77092aac": {
          "model_module": "@jupyter-widgets/base",
          "model_name": "LayoutModel",
          "model_module_version": "1.2.0",
          "state": {
            "_model_module": "@jupyter-widgets/base",
            "_model_module_version": "1.2.0",
            "_model_name": "LayoutModel",
            "_view_count": null,
            "_view_module": "@jupyter-widgets/base",
            "_view_module_version": "1.2.0",
            "_view_name": "LayoutView",
            "align_content": null,
            "align_items": null,
            "align_self": null,
            "border": null,
            "bottom": null,
            "display": null,
            "flex": null,
            "flex_flow": null,
            "grid_area": null,
            "grid_auto_columns": null,
            "grid_auto_flow": null,
            "grid_auto_rows": null,
            "grid_column": null,
            "grid_gap": null,
            "grid_row": null,
            "grid_template_areas": null,
            "grid_template_columns": null,
            "grid_template_rows": null,
            "height": null,
            "justify_content": null,
            "justify_items": null,
            "left": null,
            "margin": null,
            "max_height": null,
            "max_width": null,
            "min_height": null,
            "min_width": null,
            "object_fit": null,
            "object_position": null,
            "order": null,
            "overflow": null,
            "overflow_x": null,
            "overflow_y": null,
            "padding": null,
            "right": null,
            "top": null,
            "visibility": null,
            "width": null
          }
        },
        "da08c58227304f1398aa06b06b4be531": {
          "model_module": "@jupyter-widgets/base",
          "model_name": "LayoutModel",
          "model_module_version": "1.2.0",
          "state": {
            "_model_module": "@jupyter-widgets/base",
            "_model_module_version": "1.2.0",
            "_model_name": "LayoutModel",
            "_view_count": null,
            "_view_module": "@jupyter-widgets/base",
            "_view_module_version": "1.2.0",
            "_view_name": "LayoutView",
            "align_content": null,
            "align_items": null,
            "align_self": null,
            "border": null,
            "bottom": null,
            "display": null,
            "flex": null,
            "flex_flow": null,
            "grid_area": null,
            "grid_auto_columns": null,
            "grid_auto_flow": null,
            "grid_auto_rows": null,
            "grid_column": null,
            "grid_gap": null,
            "grid_row": null,
            "grid_template_areas": null,
            "grid_template_columns": null,
            "grid_template_rows": null,
            "height": null,
            "justify_content": null,
            "justify_items": null,
            "left": null,
            "margin": null,
            "max_height": null,
            "max_width": null,
            "min_height": null,
            "min_width": null,
            "object_fit": null,
            "object_position": null,
            "order": null,
            "overflow": null,
            "overflow_x": null,
            "overflow_y": null,
            "padding": null,
            "right": null,
            "top": null,
            "visibility": null,
            "width": null
          }
        },
        "e3dde187b9434c1c8fdfe45b0c3b7b88": {
          "model_module": "@jupyter-widgets/controls",
          "model_name": "DescriptionStyleModel",
          "model_module_version": "1.5.0",
          "state": {
            "_model_module": "@jupyter-widgets/controls",
            "_model_module_version": "1.5.0",
            "_model_name": "DescriptionStyleModel",
            "_view_count": null,
            "_view_module": "@jupyter-widgets/base",
            "_view_module_version": "1.2.0",
            "_view_name": "StyleView",
            "description_width": ""
          }
        },
        "6737bcdb253b4c79b78dde622508e367": {
          "model_module": "@jupyter-widgets/base",
          "model_name": "LayoutModel",
          "model_module_version": "1.2.0",
          "state": {
            "_model_module": "@jupyter-widgets/base",
            "_model_module_version": "1.2.0",
            "_model_name": "LayoutModel",
            "_view_count": null,
            "_view_module": "@jupyter-widgets/base",
            "_view_module_version": "1.2.0",
            "_view_name": "LayoutView",
            "align_content": null,
            "align_items": null,
            "align_self": null,
            "border": null,
            "bottom": null,
            "display": null,
            "flex": null,
            "flex_flow": null,
            "grid_area": null,
            "grid_auto_columns": null,
            "grid_auto_flow": null,
            "grid_auto_rows": null,
            "grid_column": null,
            "grid_gap": null,
            "grid_row": null,
            "grid_template_areas": null,
            "grid_template_columns": null,
            "grid_template_rows": null,
            "height": null,
            "justify_content": null,
            "justify_items": null,
            "left": null,
            "margin": null,
            "max_height": null,
            "max_width": null,
            "min_height": null,
            "min_width": null,
            "object_fit": null,
            "object_position": null,
            "order": null,
            "overflow": null,
            "overflow_x": null,
            "overflow_y": null,
            "padding": null,
            "right": null,
            "top": null,
            "visibility": null,
            "width": null
          }
        },
        "5ac6c7ce10ca47a083527613ab9eee67": {
          "model_module": "@jupyter-widgets/controls",
          "model_name": "ProgressStyleModel",
          "model_module_version": "1.5.0",
          "state": {
            "_model_module": "@jupyter-widgets/controls",
            "_model_module_version": "1.5.0",
            "_model_name": "ProgressStyleModel",
            "_view_count": null,
            "_view_module": "@jupyter-widgets/base",
            "_view_module_version": "1.2.0",
            "_view_name": "StyleView",
            "bar_color": null,
            "description_width": ""
          }
        },
        "830efa0a7f69418fb44aee6423f87288": {
          "model_module": "@jupyter-widgets/base",
          "model_name": "LayoutModel",
          "model_module_version": "1.2.0",
          "state": {
            "_model_module": "@jupyter-widgets/base",
            "_model_module_version": "1.2.0",
            "_model_name": "LayoutModel",
            "_view_count": null,
            "_view_module": "@jupyter-widgets/base",
            "_view_module_version": "1.2.0",
            "_view_name": "LayoutView",
            "align_content": null,
            "align_items": null,
            "align_self": null,
            "border": null,
            "bottom": null,
            "display": null,
            "flex": null,
            "flex_flow": null,
            "grid_area": null,
            "grid_auto_columns": null,
            "grid_auto_flow": null,
            "grid_auto_rows": null,
            "grid_column": null,
            "grid_gap": null,
            "grid_row": null,
            "grid_template_areas": null,
            "grid_template_columns": null,
            "grid_template_rows": null,
            "height": null,
            "justify_content": null,
            "justify_items": null,
            "left": null,
            "margin": null,
            "max_height": null,
            "max_width": null,
            "min_height": null,
            "min_width": null,
            "object_fit": null,
            "object_position": null,
            "order": null,
            "overflow": null,
            "overflow_x": null,
            "overflow_y": null,
            "padding": null,
            "right": null,
            "top": null,
            "visibility": null,
            "width": null
          }
        },
        "9e52a9cc7c234b16a93e8589f3d84fd0": {
          "model_module": "@jupyter-widgets/controls",
          "model_name": "DescriptionStyleModel",
          "model_module_version": "1.5.0",
          "state": {
            "_model_module": "@jupyter-widgets/controls",
            "_model_module_version": "1.5.0",
            "_model_name": "DescriptionStyleModel",
            "_view_count": null,
            "_view_module": "@jupyter-widgets/base",
            "_view_module_version": "1.2.0",
            "_view_name": "StyleView",
            "description_width": ""
          }
        }
      }
    }
  },
  "cells": [
    {
      "cell_type": "markdown",
      "metadata": {
        "id": "view-in-github",
        "colab_type": "text"
      },
      "source": [
        "<a href=\"https://colab.research.google.com/github/soumitrahazra/2DSPDy/blob/master/Different_CME_Property_Analysis_from_LASCO_image.ipynb\" target=\"_parent\"><img src=\"https://colab.research.google.com/assets/colab-badge.svg\" alt=\"Open In Colab\"/></a>"
      ]
    },
    {
      "cell_type": "markdown",
      "source": [
        "#This is the code for the calculation of different CME properties (kinematical and morphological) from LASCO image.\n",
        "\n",
        "This code is developed by Soumitra Hazra"
      ],
      "metadata": {
        "id": "Frc8HbuB0yNi"
      }
    },
    {
      "cell_type": "code",
      "source": [
        "import numpy as np\n",
        "import matplotlib.pyplot as plt\n",
        "from astropy.io import fits\n",
        "from astropy.wcs import WCS\n",
        "import glob\n",
        "import cv2\n",
        "from sunpy.net import Fido, attrs as a\n",
        "from datetime import datetime, timedelta\n",
        "import os\n",
        "from bs4 import BeautifulSoup\n",
        "import requests\n",
        "import pandas as pd"
      ],
      "metadata": {
        "id": "6OnarauU2H3N"
      },
      "execution_count": 69,
      "outputs": []
    },
    {
      "cell_type": "code",
      "source": [
        "# === Step 1: Create base output folder ===\n",
        "base_dir = \"/content/lasco_data\"\n",
        "os.makedirs(base_dir, exist_ok=True)"
      ],
      "metadata": {
        "id": "ekbRyL5H4ACD"
      },
      "execution_count": 57,
      "outputs": []
    },
    {
      "cell_type": "code",
      "source": [
        "# === Set Time Range and Instrument ===\n",
        "start_time = \"2023-11-01 00:00\"\n",
        "end_time = \"2023-11-01 3:00\"  # adjust as needed\n",
        "\n",
        "# Query for LASCO C2 images (change to C3 if needed)\n",
        "result = Fido.search(\n",
        "    a.Time(start_time, end_time),\n",
        "    a.Instrument.lasco,\n",
        "    a.Detector(\"C2\"),  # or \"C3\"\n",
        "    a.Physobs.intensity\n",
        ")\n",
        "\n",
        "# Print result summary\n",
        "print(result)"
      ],
      "metadata": {
        "colab": {
          "base_uri": "https://localhost:8080/"
        },
        "id": "wNmIfCPw2veS",
        "outputId": "b594cce0-af20-4200-de60-0eee956acc00"
      },
      "execution_count": 58,
      "outputs": [
        {
          "output_type": "stream",
          "name": "stdout",
          "text": [
            "Results from 1 Provider:\n",
            "\n",
            "15 Results from the VSOClient:\n",
            "Source: https://sdac.virtualsolar.org/cgi/search\n",
            "Data retrieval status: https://docs.virtualsolar.org/wiki/VSOHealthReport\n",
            "Total estimated size: 29.529 Mbyte\n",
            "\n",
            "       Start Time               End Time        Source Instrument Provider  Physobs  Extent Type   Size \n",
            "                                                                                                  Mibyte\n",
            "----------------------- ----------------------- ------ ---------- -------- --------- ----------- -------\n",
            "2023-11-01 00:00:05.000 2023-11-01 00:00:30.000   SOHO      LASCO     SDAC intensity      CORONA 2.01074\n",
            "2023-11-01 00:12:05.000 2023-11-01 00:12:30.000   SOHO      LASCO     SDAC intensity      CORONA 2.01074\n",
            "2023-11-01 00:24:05.000 2023-11-01 00:24:30.000   SOHO      LASCO     SDAC intensity      CORONA 2.01074\n",
            "2023-11-01 00:36:07.000 2023-11-01 00:36:32.000   SOHO      LASCO     SDAC intensity      CORONA 2.01074\n",
            "2023-11-01 00:48:05.000 2023-11-01 00:48:30.000   SOHO      LASCO     SDAC intensity      CORONA 2.01074\n",
            "2023-11-01 01:25:53.000 2023-11-01 01:26:18.000   SOHO      LASCO     SDAC intensity      CORONA 2.01074\n",
            "2023-11-01 01:36:28.000 2023-11-01 01:36:53.000   SOHO      LASCO     SDAC intensity      CORONA 2.01074\n",
            "2023-11-01 01:48:05.000 2023-11-01 01:48:30.000   SOHO      LASCO     SDAC intensity      CORONA 2.01074\n",
            "2023-11-01 02:00:05.000 2023-11-01 02:00:30.000   SOHO      LASCO     SDAC intensity      CORONA 2.01074\n",
            "2023-11-01 02:12:07.000 2023-11-01 02:12:32.000   SOHO      LASCO     SDAC intensity      CORONA 2.01074\n",
            "2023-11-01 02:24:05.000 2023-11-01 02:24:30.000   SOHO      LASCO     SDAC intensity      CORONA 2.01074\n",
            "2023-11-01 02:36:05.000 2023-11-01 02:36:31.000   SOHO      LASCO     SDAC intensity      CORONA 2.01074\n",
            "2023-11-01 02:48:06.000 2023-11-01 02:48:31.000   SOHO      LASCO     SDAC intensity      CORONA 2.01074\n",
            "2023-11-01 02:54:09.000 2023-11-01 02:55:49.000   SOHO      LASCO     SDAC intensity      CORONA 1.01074\n",
            "2023-11-01 02:58:02.000 2023-11-01 02:59:42.000   SOHO      LASCO     SDAC intensity      CORONA 1.01074\n",
            "\n",
            "\n"
          ]
        }
      ]
    },
    {
      "cell_type": "code",
      "source": [
        "def fetch_cme_events_from_txt(min_speed=500, min_width=60, start_date=None, end_date=None):\n",
        "    # URL for the univ_all.txt catalog\n",
        "    url = \"https://cdaw.gsfc.nasa.gov/CME_list/UNIVERSAL/text_ver/univ_all.txt\"\n",
        "\n",
        "    # Download the catalog file\n",
        "    response = requests.get(url)\n",
        "    response.raise_for_status()  # Will raise an error if the download fails\n",
        "\n",
        "    # Parse the file line-by-line\n",
        "    lines = response.text.splitlines()\n",
        "\n",
        "    # Filter the lines for relevant data (skip header lines)\n",
        "    events = []\n",
        "    for line in lines[10:]:  # Skipping header lines\n",
        "        if len(line.strip()) == 0:\n",
        "            continue  # Skip empty lines\n",
        "\n",
        "        # Split by space (or multiple spaces) to capture columns\n",
        "        cols = [col.strip() for col in line.split() if col.strip()]\n",
        "\n",
        "        if len(cols) < 10:  # Skip malformed lines\n",
        "            continue\n",
        "\n",
        "        try:\n",
        "            # Date and time extraction\n",
        "            date_str = cols[0] + \" \" + cols[1]  # e.g., 2023/01/01 01:00:00\n",
        "            event_time = datetime.strptime(date_str, \"%Y/%m/%d %H:%M:%S\")\n",
        "\n",
        "            # Extract width, speed, and event data\n",
        "            width = int(cols[6])\n",
        "            speed = int(cols[7])\n",
        "\n",
        "            if speed >= min_speed and width >= min_width:\n",
        "                # If within speed and width limits, add to events\n",
        "                if start_date and event_time < pd.to_datetime(start_date):\n",
        "                    continue\n",
        "                if end_date and event_time > pd.to_datetime(end_date):\n",
        "                    continue\n",
        "\n",
        "                events.append({\n",
        "                    \"time\": event_time,\n",
        "                    \"width\": width,\n",
        "                    \"speed\": speed\n",
        "                })\n",
        "        except Exception as e:\n",
        "            # Handle errors (e.g., value parsing errors)\n",
        "            continue\n",
        "\n",
        "    return events"
      ],
      "metadata": {
        "id": "qyrZ4oK6C4Re"
      },
      "execution_count": 59,
      "outputs": []
    },
    {
      "cell_type": "code",
      "source": [
        "# === Step 3: Download LASCO data ===\n",
        "def download_lasco_images(events, instrument=\"C2\", margin_min=60):\n",
        "    # If a single event is passed, wrap it in a list\n",
        "    if isinstance(events, dict):\n",
        "        events = [events]\n",
        "    elif isinstance(events, str):\n",
        "        events = [{\"time\": datetime.strptime(events, \"%Y-%m-%d %H:%M\")}]\n",
        "\n",
        "    for event in events:\n",
        "        t0 = event[\"time\"]\n",
        "        t_start = (t0 - timedelta(minutes=30)).strftime(\"%Y-%m-%d %H:%M\")\n",
        "        t_end = (t0 + timedelta(minutes=margin_min)).strftime(\"%Y-%m-%d %H:%M\")\n",
        "\n",
        "        subdir = f\"{t0.strftime('%Y-%m-%dT%H-%M')}_{instrument}\"\n",
        "        output_path = os.path.join(base_dir, subdir)\n",
        "        os.makedirs(output_path, exist_ok=True)\n",
        "\n",
        "        print(f\"\\n CME at {t0} | Speed: {event['speed']} km/s | Width: {event['width']}°\")\n",
        "        print(f\"   Saving to: {output_path}\")\n",
        "\n",
        "        try:\n",
        "            result = Fido.search(\n",
        "                a.Time(t_start, t_end),\n",
        "                a.Instrument.lasco,\n",
        "                a.Detector(instrument),\n",
        "                a.Physobs.intensity\n",
        "            )\n",
        "\n",
        "            if result.file_num > 0:\n",
        "                files = Fido.fetch(result, path=os.path.join(output_path, \"{file}\"))\n",
        "                print(f\" Downloaded {len(files)} images.\")\n",
        "            else:\n",
        "                print(\"⚠️ No data found.\")\n",
        "        except Exception as e:\n",
        "            print(f\"❌ Download error: {e}\")\n"
      ],
      "metadata": {
        "id": "YRWb7rVN29wx"
      },
      "execution_count": 60,
      "outputs": []
    },
    {
      "cell_type": "code",
      "source": [
        "# Example usage\n",
        "events = fetch_cme_events_from_txt(\n",
        "    min_speed=600,\n",
        "    min_width=100,\n",
        "    start_date=\"2023-01-01\",\n",
        "    end_date=\"2023-03-31\"\n",
        ")\n"
      ],
      "metadata": {
        "id": "nkC-GaF1C9Si"
      },
      "execution_count": 61,
      "outputs": []
    },
    {
      "cell_type": "code",
      "source": [
        "print(f\"Found {len(events)} CME events.\")\n",
        "for event in events[:5]:\n",
        "    print(event)"
      ],
      "metadata": {
        "colab": {
          "base_uri": "https://localhost:8080/"
        },
        "id": "2C-7QykTDHV7",
        "outputId": "12f49155-aed3-4d01-9a54-29e05d1202eb"
      },
      "execution_count": 62,
      "outputs": [
        {
          "output_type": "stream",
          "name": "stdout",
          "text": [
            "Found 186 CME events.\n",
            "{'time': datetime.datetime(2023, 1, 2, 18, 36, 5), 'width': 734, 'speed': 1072}\n",
            "{'time': datetime.datetime(2023, 1, 3, 6, 36, 5), 'width': 910, 'speed': 1051}\n",
            "{'time': datetime.datetime(2023, 1, 3, 11, 36, 5), 'width': 348, 'speed': 649}\n",
            "{'time': datetime.datetime(2023, 1, 3, 14, 12, 5), 'width': 712, 'speed': 703}\n",
            "{'time': datetime.datetime(2023, 1, 4, 9, 12, 9), 'width': 486, 'speed': 824}\n"
          ]
        }
      ]
    },
    {
      "cell_type": "code",
      "source": [
        "selected_cme_event=events[0]\n",
        "print(selected_cme_event)"
      ],
      "metadata": {
        "colab": {
          "base_uri": "https://localhost:8080/"
        },
        "id": "ENufY-3yEx6r",
        "outputId": "48148ab6-dc91-45bf-fc0e-0e9113ef39ef"
      },
      "execution_count": 63,
      "outputs": [
        {
          "output_type": "stream",
          "name": "stdout",
          "text": [
            "{'time': datetime.datetime(2023, 1, 2, 18, 36, 5), 'width': 734, 'speed': 1072}\n"
          ]
        }
      ]
    },
    {
      "cell_type": "code",
      "source": [
        "download_lasco_images(selected_cme_event, instrument=\"C2\", margin_min=60)"
      ],
      "metadata": {
        "colab": {
          "base_uri": "https://localhost:8080/",
          "height": 117,
          "referenced_widgets": [
            "f6fdf4a82d3a4ace9e21f62222272aac",
            "dc8b696b429c4b8790fbf6cf1c5f3a85",
            "4298ff709734473d909cb80935bcc2f6",
            "26e0c3397c3d45efab4d1c3d37ff8b31",
            "458886e058ce4276b332636b77092aac",
            "da08c58227304f1398aa06b06b4be531",
            "e3dde187b9434c1c8fdfe45b0c3b7b88",
            "6737bcdb253b4c79b78dde622508e367",
            "5ac6c7ce10ca47a083527613ab9eee67",
            "830efa0a7f69418fb44aee6423f87288",
            "9e52a9cc7c234b16a93e8589f3d84fd0"
          ]
        },
        "id": "rzCUYn8fE49U",
        "outputId": "061ce649-48c8-4bd1-a05d-d5610bad1a0e"
      },
      "execution_count": 64,
      "outputs": [
        {
          "output_type": "stream",
          "name": "stdout",
          "text": [
            "\n",
            " CME at 2023-01-02 18:36:05 | Speed: 1072 km/s | Width: 734°\n",
            "   Saving to: /content/lasco_data/2023-01-02T18-36_C2\n"
          ]
        },
        {
          "output_type": "display_data",
          "data": {
            "text/plain": [
              "Files Downloaded:   0%|          | 0/7 [00:00<?, ?file/s]"
            ],
            "application/vnd.jupyter.widget-view+json": {
              "version_major": 2,
              "version_minor": 0,
              "model_id": "f6fdf4a82d3a4ace9e21f62222272aac"
            }
          },
          "metadata": {}
        },
        {
          "output_type": "stream",
          "name": "stdout",
          "text": [
            " Downloaded 7 images.\n"
          ]
        }
      ]
    },
    {
      "cell_type": "code",
      "source": [
        "!pip install ffmpeg-python --quiet"
      ],
      "metadata": {
        "id": "VqfRlOsDFMUb"
      },
      "execution_count": 65,
      "outputs": []
    },
    {
      "cell_type": "code",
      "source": [
        "import os\n",
        "import glob\n",
        "from astropy.io import fits\n",
        "import matplotlib.pyplot as plt\n",
        "\n",
        "fits_dir = \"/content/lasco_data/2023-01-02T18-36_C2/\"\n",
        "output_img_dir = \"/content/lasco_frames\"\n",
        "os.makedirs(output_img_dir, exist_ok=True)\n",
        "\n",
        "fits_files = sorted(glob.glob(os.path.join(fits_dir, \"*.fts\")))\n",
        "\n",
        "for i, file_path in enumerate(fits_files):\n",
        "    with fits.open(file_path) as hdul:\n",
        "        data = hdul[0].data\n",
        "\n",
        "    # Optional: normalize for better contrast\n",
        "    norm_data = (data - data.min()) / (data.max() - data.min())\n",
        "\n",
        "    # Save frame as image\n",
        "    frame_path = os.path.join(output_img_dir, f\"frame_{i:03d}.jpg\")\n",
        "    plt.imsave(frame_path, norm_data, cmap='gray')\n"
      ],
      "metadata": {
        "id": "FwfAOQtiIj9n"
      },
      "execution_count": 66,
      "outputs": []
    },
    {
      "cell_type": "code",
      "source": [
        "import ffmpeg\n",
        "\n",
        "output_gif = \"/content/cme_event.gif\"\n",
        "\n",
        "(\n",
        "    ffmpeg\n",
        "    .input('/content/lasco_frames/frame_%03d.jpg', framerate=1)\n",
        "    .output(output_gif, vf='scale=800:-1', loop=0)\n",
        "    .run(overwrite_output=True)\n",
        ")\n",
        "\n",
        "print(f\"✅ GIF saved at {output_gif}\")"
      ],
      "metadata": {
        "colab": {
          "base_uri": "https://localhost:8080/"
        },
        "id": "hq0QzGBFHKds",
        "outputId": "b967cad8-f51f-4ee8-f7e9-2318233dffbf"
      },
      "execution_count": 67,
      "outputs": [
        {
          "output_type": "stream",
          "name": "stdout",
          "text": [
            "✅ GIF saved at /content/cme_event.gif\n"
          ]
        }
      ]
    },
    {
      "cell_type": "markdown",
      "source": [
        "CME Property Estimation via Ellipse Fitting"
      ],
      "metadata": {
        "id": "xlSwXiFEgxcv"
      }
    },
    {
      "cell_type": "code",
      "source": [
        "import cv2\n",
        "import numpy as np\n",
        "from astropy.io import fits\n",
        "import matplotlib.pyplot as plt\n",
        "\n",
        "# Load LASCO FITS image\n",
        "fits_file = \"/content/lasco_data/2023-01-02T18-36_C2/22888030.fts\"\n",
        "hdul = fits.open(fits_file)\n",
        "data = hdul[0].data\n",
        "header = hdul[0].header\n",
        "hdul.close()\n",
        "\n",
        "# Normalize and enhance contrast\n",
        "norm = (data - np.min(data)) / (np.max(data) - np.min(data))\n",
        "norm = (norm * 255).astype(np.uint8)\n",
        "\n",
        "# Apply threshold to isolate CME front\n",
        "_, thresh = cv2.threshold(norm, 60, 255, cv2.THRESH_BINARY)\n",
        "\n",
        "# Find contours\n",
        "contours, _ = cv2.findContours(thresh, cv2.RETR_EXTERNAL, cv2.CHAIN_APPROX_SIMPLE)\n",
        "\n",
        "# Select the largest contour (assumed to be CME front)\n",
        "contour = max(contours, key=cv2.contourArea)\n",
        "\n",
        "# Fit ellipse\n",
        "ellipse = cv2.fitEllipse(contour)\n",
        "\n",
        "# Draw results\n",
        "result_img = cv2.cvtColor(norm, cv2.COLOR_GRAY2BGR)\n",
        "cv2.ellipse(result_img, ellipse, (0, 255, 0), 2)\n",
        "\n",
        "plt.imshow(result_img)\n",
        "plt.title(\"Fitted CME Ellipse\")\n",
        "plt.axis('off')\n",
        "plt.show()\n"
      ],
      "metadata": {
        "colab": {
          "base_uri": "https://localhost:8080/",
          "height": 428
        },
        "id": "4F7YtGSKYMfR",
        "outputId": "7f1d537b-f9a9-4c3c-e6bf-be1f3f7cf4e3"
      },
      "execution_count": 71,
      "outputs": [
        {
          "output_type": "display_data",
          "data": {
            "text/plain": [
              "<Figure size 640x480 with 1 Axes>"
            ],
            "image/png": "[encoded data removed]"
          },
          "metadata": {}
        }
      ]
    },
    {
      "cell_type": "code",
      "source": [
        "# Sun center in image (approx; LASCO images are centered)\n",
        "sun_center = (result_img.shape[1] // 2, result_img.shape[0] // 2)\n",
        "\n",
        "# Ellipse center, axes, angle\n",
        "(center_x, center_y), (major_axis, minor_axis), angle = ellipse\n",
        "\n",
        "# Convert height (major axis) to km\n",
        "pix_scale = header.get(\"CDELT1\", 11.4)  # arcsec/pixel\n",
        "rsun_arcsec = 959.63\n",
        "rsun_km = 696340\n",
        "\n",
        "height_arcsec = major_axis * pix_scale\n",
        "height_rsun = height_arcsec / rsun_arcsec\n",
        "height_km = height_rsun * rsun_km\n",
        "\n",
        "# Angular width approximation (minor axis)\n",
        "width_arcsec = minor_axis * pix_scale\n",
        "width_deg = width_arcsec / 3600  # arcsec to degrees\n",
        "\n",
        "# Position angle (ellipse orientation)\n",
        "pa_deg = angle\n",
        "\n",
        "print(f\"🌞 Estimated CME Height: {height_rsun:.2f} Rsun ({height_km:.0f} km)\")\n",
        "print(f\"🟠 Estimated Angular Width: {width_deg:.1f}°\")\n",
        "print(f\"📐 Position Angle: {pa_deg:.1f}°\")"
      ],
      "metadata": {
        "colab": {
          "base_uri": "https://localhost:8080/"
        },
        "id": "j4k8IlWTgnK0",
        "outputId": "6e379c66-f5c5-405e-fe09-d375138d7775"
      },
      "execution_count": 72,
      "outputs": [
        {
          "output_type": "stream",
          "name": "stdout",
          "text": [
            "🌞 Estimated CME Height: 4.96 Rsun (3452444 km)\n",
            "🟠 Estimated Angular Width: 1.5°\n",
            "📐 Position Angle: 6.2°\n"
          ]
        }
      ]
    },
    {
      "cell_type": "code",
      "source": [
        "import cv2\n",
        "import numpy as np\n",
        "import pandas as pd\n",
        "import matplotlib.pyplot as plt\n",
        "from astropy.io import fits\n",
        "from datetime import datetime\n",
        "import glob\n",
        "import re\n",
        "import os\n",
        "\n",
        "# Function to extract observation time from header or fallback to filename\n",
        "def extract_observation_time(file_path, header):\n",
        "    date_obs = header.get('DATE-OBS')\n",
        "    time_obs = header.get('TIME-OBS')\n",
        "    # Format date and time\n",
        "    # Convert date from 'YYYY/MM/DD' to 'DD-MM-YYYY'\n",
        "    formatted_date = datetime.strptime(date_obs, '%Y/%m/%d').strftime('%d-%m-%Y')\n",
        "    # Remove milliseconds from time and convert to 'HH:MM:SS'\n",
        "    formatted_time = time_obs.split('.')[0]\n",
        "\n",
        "    if formatted_date and formatted_time:\n",
        "        # Combine DATE_OBS and TIME_OBS to form a full datetime string\n",
        "        full_time_str = f\"{formatted_date} {formatted_time}\"\n",
        "        try:\n",
        "            # Convert to datetime object\n",
        "            return datetime.strptime(full_time_str, '%d-%m-%Y %H:%M:%S')\n",
        "        except ValueError:\n",
        "            print(f\"❌ Invalid time format in file: {file_path}\")\n",
        "            return None\n",
        "\n",
        "    # Fallback: extract from filename or path\n",
        "    match = re.search(r'(\\d{4})[-_/](\\d{2})[-_/](\\d{2})[T_]?(\\d{2})[-_](\\d{2})', file_path)\n",
        "    if match:\n",
        "        try:\n",
        "            return datetime.strptime('-'.join(match.groups()), '%Y-%m-%d-%H-%M')\n",
        "        except ValueError:\n",
        "            pass\n",
        "    return None\n",
        "\n",
        "def process_cme_sequence(fits_dir, output_csv=None, show_plot=True):\n",
        "    fits_files = sorted(glob.glob(f\"{fits_dir}/**/*.fts\", recursive=True))\n",
        "    time_series = []\n",
        "    height_series_rsun = []\n",
        "\n",
        "    for file in fits_files:\n",
        "        try:\n",
        "            hdul = fits.open(file)\n",
        "            data = hdul[0].data\n",
        "            header = hdul[0].header\n",
        "            hdul.close()\n",
        "\n",
        "            t_obs = extract_observation_time(file, header)\n",
        "            if t_obs is None:\n",
        "                print(f\"⏳ Skipped (no valid time): {file}\")\n",
        "                continue\n",
        "\n",
        "            norm = (data - np.min(data)) / (np.max(data) - np.min(data))\n",
        "            norm = (norm * 255).astype(np.uint8)\n",
        "            _, thresh = cv2.threshold(norm, 60, 255, cv2.THRESH_BINARY)\n",
        "            contours, _ = cv2.findContours(thresh, cv2.RETR_EXTERNAL, cv2.CHAIN_APPROX_SIMPLE)\n",
        "            if not contours:\n",
        "                continue\n",
        "\n",
        "            contour = max(contours, key=cv2.contourArea)\n",
        "            if len(contour) < 5:\n",
        "                continue\n",
        "\n",
        "            ellipse = cv2.fitEllipse(contour)\n",
        "            (cx, cy), (major_axis, minor_axis), angle = ellipse\n",
        "            img_center = (norm.shape[1] // 2, norm.shape[0] // 2)\n",
        "            distance_px = np.linalg.norm(np.array([cx, cy]) - np.array(img_center))\n",
        "            pix_scale = header.get(\"CDELT1\", 11.4)  # Scale in arcseconds/pixel\n",
        "            rsun_arcsec = 959.63  # Radius of the Sun in arcseconds\n",
        "            distance_arcsec = distance_px * pix_scale\n",
        "            height_rsun = distance_arcsec / rsun_arcsec\n",
        "\n",
        "            time_series.append(t_obs)\n",
        "            height_series_rsun.append(height_rsun)\n",
        "\n",
        "        except Exception as e:\n",
        "            print(f\"❌ Error processing {file}: {e}\")\n",
        "\n",
        "    # Convert to DataFrame\n",
        "    df = pd.DataFrame({\n",
        "        \"time\": time_series,\n",
        "        \"height_rsun\": height_series_rsun\n",
        "    }).sort_values(\"time\")\n",
        "\n",
        "    # Plot with the full formatted time\n",
        "    if show_plot and not df.empty:\n",
        "        plt.figure(figsize=(8, 5))\n",
        "        plt.plot(df[\"time\"], df[\"height_rsun\"], 'ro-')\n",
        "        plt.title(\"CME Height vs Time\")\n",
        "        plt.xlabel(\"Time (DD-MM-YYYY HH:MM:SS)\")\n",
        "        plt.ylabel(\"Height (Rsun)\")\n",
        "        plt.xticks(rotation=45)\n",
        "\n",
        "        # Format x-axis to show time in desired format\n",
        "        plt.gca().xaxis.set_major_formatter(plt.matplotlib.dates.DateFormatter('%d-%m-%Y %H:%M:%S'))\n",
        "        plt.grid(True)\n",
        "        plt.tight_layout()\n",
        "        plt.show()\n",
        "\n",
        "    # Save to CSV\n",
        "    if output_csv:\n",
        "        df.to_csv(output_csv, index=False)\n",
        "        print(f\"✅ Saved height-time data to {output_csv}\")\n",
        "\n",
        "    return df\n"
      ],
      "metadata": {
        "id": "5I4HW1XKl2lf"
      },
      "execution_count": 91,
      "outputs": []
    },
    {
      "cell_type": "code",
      "source": [
        "df = process_cme_sequence(\"/content/lasco_data/2023-01-02T18-36_C2/\", output_csv=\"/content/cme_ht.csv\")"
      ],
      "metadata": {
        "colab": {
          "base_uri": "https://localhost:8080/",
          "height": 524
        },
        "id": "hLuwGdrui581",
        "outputId": "df0b6bad-ed5a-4e3f-cecc-e95885824655"
      },
      "execution_count": 92,
      "outputs": [
        {
          "output_type": "display_data",
          "data": {
            "text/plain": [
              "<Figure size 800x500 with 1 Axes>"
            ],
            "image/png": "[encoded data removed]"
          },
          "metadata": {}
        },
        {
          "output_type": "stream",
          "name": "stdout",
          "text": [
            "✅ Saved height-time data to /content/cme_ht.csv\n"
          ]
        }
      ]
    },
    {
      "cell_type": "code",
      "source": [],
      "metadata": {
        "id": "HTxaxvc_oSh6"
      },
      "execution_count": null,
      "outputs": []
    }
  ]
}